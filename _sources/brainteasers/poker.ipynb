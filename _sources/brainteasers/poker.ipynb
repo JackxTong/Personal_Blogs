{
 "cells": [
  {
   "cell_type": "markdown",
   "metadata": {},
   "source": [
    "# Poker"
   ]
  },
  {
   "cell_type": "markdown",
   "metadata": {},
   "source": [
    "We are interested in the distribution of the sum of 3 random cards drawn from a shuffled deck.\n",
    "\n",
    "Where Ace = 14, and J, Q, K = 11, 12, 13 respectively."
   ]
  },
  {
   "cell_type": "code",
   "execution_count": 2,
   "metadata": {},
   "outputs": [
    {
     "data": {
      "text/plain": [
       "(23.999912, 42.052581992256016)"
      ]
     },
     "execution_count": 2,
     "metadata": {},
     "output_type": "execute_result"
    }
   ],
   "source": [
    "import numpy as np\n",
    "\n",
    "card_values = [14, 2, 3, 4, 5, 6, 7, 8, 9, 10, 11, 12, 13]\n",
    "\n",
    "deck = card_values * 4\n",
    "\n",
    "num_simulations = 10**6\n",
    "\n",
    "draws = np.random.choice(deck, size=(num_simulations, 3), replace=True)\n",
    "\n",
    "sum_of_draws = np.sum(draws, axis=1)\n",
    "\n",
    "expected_value = np.mean(sum_of_draws)\n",
    "variance = np.var(sum_of_draws)\n",
    "\n",
    "expected_value, variance\n"
   ]
  },
  {
   "cell_type": "markdown",
   "metadata": {},
   "source": [
    "Idea:\n",
    "\n",
    "Note for Xi ~ Unif(a,a+1,...,b), E(Xi) = (a+b)/2, var(Xi) = 1/12*((b-a)^2 + 2(b-a))\n",
    "\n",
    "Each Xi ~ Unif(2, 3, ..., 14)\n",
    "\n",
    "E(Xi) = 8 \n",
    "\n",
    "Var(Xi) = (12^2 + 2*12) / 12 = 14\n",
    "\n",
    "Let S = X1 + X2 + X3, it follows that \n",
    "\n",
    "E(S) = 24, var(S) = 42\n",
    "\n",
    "Our assumption is that each draw is independent of the others (in reality it's not, but we assume we are drawing from a population large enough, just to simplify calculations)"
   ]
  },
  {
   "cell_type": "code",
   "execution_count": null,
   "metadata": {},
   "outputs": [],
   "source": []
  }
 ],
 "metadata": {
  "kernelspec": {
   "display_name": "Python 3",
   "language": "python",
   "name": "python3"
  },
  "language_info": {
   "codemirror_mode": {
    "name": "ipython",
    "version": 3
   },
   "file_extension": ".py",
   "mimetype": "text/x-python",
   "name": "python",
   "nbconvert_exporter": "python",
   "pygments_lexer": "ipython3",
   "version": "3.11.4"
  }
 },
 "nbformat": 4,
 "nbformat_minor": 2
}
