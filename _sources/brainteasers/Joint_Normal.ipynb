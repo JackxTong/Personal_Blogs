{
 "cells": [
  {
   "cell_type": "markdown",
   "metadata": {},
   "source": [
    "# Joint Normality"
   ]
  },
  {
   "cell_type": "markdown",
   "metadata": {},
   "source": [
    "Uncorrelated jointly normal implies independence.\n",
    "\n",
    "But two uncorrelated normal does not imply jointly normal, nor independence."
   ]
  },
  {
   "cell_type": "markdown",
   "metadata": {},
   "source": [
    "Consider X ~ N(0, 1)\n",
    "$$\n",
    "Y = \n",
    "\\begin{cases} \n",
    "X & \\frac{1}{2}, \\\\\n",
    "-X & \\frac{1}{2},\n",
    "\\end{cases}\n",
    "$$\n",
    "\n",
    "Y is normal, and in fact Y ~ N(0, 1)"
   ]
  },
  {
   "cell_type": "markdown",
   "metadata": {},
   "source": [
    "$$\n",
    "\\text{Var}(Y) = \\mathbb{E}[Y^2] - (\\mathbb{E}[Y])^2,\n",
    "$$\n",
    "\n",
    "$$\n",
    "\\mathbb{E}[Y^2] = \\frac{1}{2} \\mathbb{E}[X^2] + \\frac{1}{2} \\mathbb{E}[(-X)^2] = 1,\n",
    "$$\n",
    "\n",
    "$$\n",
    "\\text{Var}(Y) = 1 - 0^2 = 1.\n",
    "$$\n"
   ]
  },
  {
   "cell_type": "markdown",
   "metadata": {},
   "source": [
    "But X and Y are not independent, and (X, Y) is not jointly normal\n",
    "\n",
    "To be jointly normal, any linear combination aX + bY must be normal\n",
    "\n",
    "Note P(X + Y = 0) = 1/2, so clearly X+Y is not normal"
   ]
  },
  {
   "cell_type": "code",
   "execution_count": null,
   "metadata": {
    "vscode": {
     "languageId": "plaintext"
    }
   },
   "outputs": [],
   "source": []
  },
  {
   "cell_type": "markdown",
   "metadata": {},
   "source": []
  }
 ],
 "metadata": {
  "language_info": {
   "name": "python"
  }
 },
 "nbformat": 4,
 "nbformat_minor": 2
}
