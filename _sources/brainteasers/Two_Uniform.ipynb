{
 "cells": [
  {
   "cell_type": "markdown",
   "metadata": {},
   "source": [
    "# Two Uniform Comparison"
   ]
  },
  {
   "cell_type": "markdown",
   "metadata": {},
   "source": [
    "Two players enter a game by each paying $10. \n",
    "\n",
    "They randomly draw number from 0-100. \n",
    "\n",
    "Whoever has the larger number gets the entire pot.\n",
    "\n",
    "Now you have a chance to redraw, fair value of game?"
   ]
  },
  {
   "cell_type": "markdown",
   "metadata": {},
   "source": [
    "If you get to redraw once and your opponent gets your previous card if you choose to redraw, what is the price you are wiling to pay"
   ]
  },
  {
   "cell_type": "markdown",
   "metadata": {},
   "source": []
  }
 ],
 "metadata": {
  "kernelspec": {
   "display_name": "Python 3",
   "language": "python",
   "name": "python3"
  },
  "language_info": {
   "name": "python",
   "version": "3.11.4"
  }
 },
 "nbformat": 4,
 "nbformat_minor": 2
}
