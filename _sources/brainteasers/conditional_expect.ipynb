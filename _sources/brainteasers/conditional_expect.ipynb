{
 "cells": [
  {
   "cell_type": "markdown",
   "metadata": {},
   "source": [
    "# Conditional Expectation"
   ]
  },
  {
   "cell_type": "markdown",
   "metadata": {},
   "source": [
    "$$\n",
    "E[X \\cdot I(X < n)] = E[X \\mid X < n] \\cdot P(X < n)\n",
    "$$\n",
    "\n",
    "Proof:\n",
    "$$\n",
    "E[X \\cdot I(X < n)] = E[X \\cdot I(X < n) \\mid X < n] \\cdot P(X < n) + E[X \\cdot I(X < n) \\mid X > n] \\cdot P(X > n)\n",
    "$$\n",
    "\n",
    "$$\n",
    "= E[X \\mid X < n] \\cdot P(X < n) + 0\n",
    "$$"
   ]
  },
  {
   "cell_type": "code",
   "execution_count": 4,
   "metadata": {},
   "outputs": [
    {
     "name": "stdout",
     "output_type": "stream",
     "text": [
      "0.499603\n",
      "-0.3988524658505171 -0.39885246585051737\n"
     ]
    }
   ],
   "source": [
    "import numpy as np\n",
    "num_samples = 1_000_000\n",
    "X = np.random.normal(0, 1, num_samples)  # Standard normal\n",
    "\n",
    "I_X_less_0 = X < 0  # Indicator for X < 0\n",
    "\n",
    "# 1. Calculate E[X | X < 0] * P(X < 0)\n",
    "E = np.mean(X[X<0])  # E[X | X < 0]\n",
    "P = np.mean(I_X_less_0)             # P(X < 0)\n",
    "print(P)\n",
    "E1 = E * P\n",
    "\n",
    "# 2. Calculate E[X * I(X < 0)]\n",
    "X[X > 0] = 0\n",
    "E2 = np.mean(X)\n",
    "\n",
    "\n",
    "print(E1, E2)"
   ]
  },
  {
   "cell_type": "code",
   "execution_count": null,
   "metadata": {},
   "outputs": [],
   "source": []
  }
 ],
 "metadata": {
  "kernelspec": {
   "display_name": "Python 3",
   "language": "python",
   "name": "python3"
  },
  "language_info": {
   "codemirror_mode": {
    "name": "ipython",
    "version": 3
   },
   "file_extension": ".py",
   "mimetype": "text/x-python",
   "name": "python",
   "nbconvert_exporter": "python",
   "pygments_lexer": "ipython3",
   "version": "3.11.4"
  }
 },
 "nbformat": 4,
 "nbformat_minor": 2
}
