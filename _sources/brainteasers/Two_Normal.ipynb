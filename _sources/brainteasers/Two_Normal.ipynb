{
 "cells": [
  {
   "cell_type": "markdown",
   "metadata": {},
   "source": [
    "# Two Normal Comparison"
   ]
  },
  {
   "cell_type": "markdown",
   "metadata": {},
   "source": [
    "Given X1 ~ N(0, 1), X2 ~ N(0, 3)  \n",
    "p(X1 > X2)?  \n",
    "what about p(X1 > X2 | X2 > 0)"
   ]
  }
 ],
 "metadata": {
  "language_info": {
   "name": "python"
  }
 },
 "nbformat": 4,
 "nbformat_minor": 2
}
