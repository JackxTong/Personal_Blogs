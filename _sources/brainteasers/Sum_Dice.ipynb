{
 "cells": [
  {
   "cell_type": "markdown",
   "metadata": {},
   "source": [
    "# Sum of Dice"
   ]
  },
  {
   "cell_type": "markdown",
   "metadata": {},
   "source": [
    "A dice is a discrete uniform from {1, 2, ..., 6}\n",
    "\n",
    "For X ~ U(a, a+1, ..., b), "
   ]
  },
  {
   "cell_type": "markdown",
   "metadata": {},
   "source": [
    "$$\n",
    "\\mathbb{E}[X] = \\frac{a+b}{2}.\n",
    "$$\n",
    "\n",
    "$$\n",
    "\\text{Var}(X) = \\frac{(b-a+1)^2 - 1}{12}.\n",
    "$$\n",
    "\n"
   ]
  },
  {
   "cell_type": "markdown",
   "metadata": {},
   "source": [
    "Clearly for a dice,\n",
    "\n",
    "Var(X) = 35/12\n",
    "\n",
    "For the sum of n IID X ~ U(a, a+1, ..., b), by CLT\n",
    "\n",
    "$$\n",
    "S \\sim N\\left(n \\cdot \\frac{a+b}{2}, n \\cdot \\frac{(b-a+1)^2 - 1}{12}\\right).\n",
    "$$"
   ]
  },
  {
   "cell_type": "markdown",
   "metadata": {},
   "source": [
    "Applicable on fair coin, where a = 0, b = 1,\n",
    "\n",
    "$$\n",
    "S \\sim N\\left(\\frac{n}{2}, \\frac{n}{4}\\right).\n",
    "$$\n",
    "\n",
    "Applicable on fair dice, where a = 1, b = 6,\n",
    "\n",
    "$$\n",
    "S \\sim N\\left(3.5 \\cdot n, \\frac{35}{12} \\cdot n\\right).\n",
    "$$"
   ]
  },
  {
   "cell_type": "markdown",
   "metadata": {},
   "source": [
    "Sum of N dice, or N times one dice, which is bigger?\n",
    "\n",
    "Same expectation\n",
    "\n",
    "Var(S1) = N^2 * 35/12 = N Var(S2)"
   ]
  },
  {
   "cell_type": "markdown",
   "metadata": {},
   "source": []
  }
 ],
 "metadata": {
  "language_info": {
   "name": "python"
  }
 },
 "nbformat": 4,
 "nbformat_minor": 2
}
