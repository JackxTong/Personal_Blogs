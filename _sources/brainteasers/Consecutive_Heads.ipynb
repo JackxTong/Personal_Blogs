{
 "cells": [
  {
   "cell_type": "markdown",
   "metadata": {},
   "source": [
    "# Expected rolls to get n consecutive Heads"
   ]
  },
  {
   "cell_type": "markdown",
   "metadata": {},
   "source": [
    "Expectation to get 1 Head = 2  \n",
    "\n",
    "E(2 consecutive H) = 6\n",
    "\n",
    "E(3 consecutive H) = 14\n",
    "\n",
    "clearly 2,, 6, 14, ...\n",
    "\n",
    "E(N heads) = 2+4+8+..+2^n = 2^(n+1) - 2"
   ]
  },
  {
   "cell_type": "markdown",
   "metadata": {},
   "source": [
    "### Method 1:\n",
    "\n",
    "For N = 2:  \n",
    "E = (1 + 1/2*( 1 + 1/2 * E) + 1/2 * E)  \n",
    "or E = 1 + 1/2 + 1/4E + 1/2E  \n",
    "or 1/4E = 3/2  \n",
    "E = 6\n",
    "\n",
    "### Method 2:\n",
    "1/2 chance gets a tail, E = E+1  \n",
    "1/4 chance gets a head then tail, E = E+2  \n",
    "1/4 chance gets 2 head, E = 2\n",
    "\n",
    "E = 1/2 (E + 1) + 1/4(E + 2) + 1/4 * 2  \n",
    "or E = 3/4E + 3/2  \n",
    "E = 6"
   ]
  },
  {
   "cell_type": "markdown",
   "metadata": {},
   "source": [
    "### For N:  \n",
    "\n",
    "$$\n",
    "E = \\frac{1}{2}(E + 1) + \\frac{1}{4}(E + 2) + \\frac{1}{8}(E + 3) + \\cdots + \\frac{1}{2^{N}}(E + N) + \\frac{1}{2^N}N\n",
    "$$\n",
    "\n",
    "\n",
    "$$\n",
    "E = \\left(\\frac{1}{2} + \\frac{1}{4} + \\frac{1}{8} + \\cdots + \\frac{1}{2^{N}}\\right)E + \\left(\\frac{1}{2} + \\frac{2}{4} + \\frac{3}{8} + \\cdots + \\frac{N-1}{2^{N-1}} + \\frac{N}{2^N} + \\frac{N}{2^N}\\right)\n",
    "$$\n",
    "\n",
    "$$\n",
    "E = \\left(1 - \\frac{1}{2^{N}}\\right)E + \\left(2 - \\frac{1}{2^{N-1}}\\right)\n",
    "$$"
   ]
  },
  {
   "cell_type": "markdown",
   "metadata": {},
   "source": [
    "$$\n",
    "\\frac{1}{2^{N}} E = 2 - \\frac{1}{2^{N-1}}\n",
    "$$\n",
    "\n",
    "$$\n",
    "E = 2^{N+1} - 2\n",
    "$$"
   ]
  },
  {
   "cell_type": "markdown",
   "metadata": {},
   "source": []
  }
 ],
 "metadata": {
  "language_info": {
   "name": "python"
  }
 },
 "nbformat": 4,
 "nbformat_minor": 2
}
