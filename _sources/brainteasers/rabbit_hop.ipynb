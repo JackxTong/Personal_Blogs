{
 "cells": [
  {
   "cell_type": "markdown",
   "metadata": {},
   "source": [
    "# Hopping Rabbit Problem"
   ]
  },
  {
   "cell_type": "markdown",
   "metadata": {},
   "source": [
    "Classical \"Hopping rabbit\" problem\n",
    "\n",
    "A rabbit can jump one or two steps, how many ways to get to the top of n stairs?"
   ]
  },
  {
   "cell_type": "code",
   "execution_count": 13,
   "metadata": {},
   "outputs": [
    {
     "data": {
      "text/plain": [
       "3"
      ]
     },
     "execution_count": 13,
     "metadata": {},
     "output_type": "execute_result"
    }
   ],
   "source": [
    "def f(n):\n",
    "    if n == 1 or n == 0:\n",
    "        return 1\n",
    "    return f(n-2) + f(n-1)\n",
    "\n",
    "f(3) # 111, 12, 21"
   ]
  },
  {
   "cell_type": "markdown",
   "metadata": {},
   "source": [
    "Mathematically, say take x of 2-jumps, (n-2x) of 1-jumps.\n",
    "\n",
    "x can be 0, 1, ... up to floor(n/2)\n",
    "\n",
    "For each x, can have (n-2x+x choose x) ways\n",
    "\n",
    "So in total, $ \\sum_{x=1}^{\\lfloor n/2 \\rfloor} \\binom{n-x}{x} $"
   ]
  },
  {
   "cell_type": "code",
   "execution_count": 18,
   "metadata": {},
   "outputs": [
    {
     "data": {
      "text/plain": [
       "3"
      ]
     },
     "execution_count": 18,
     "metadata": {},
     "output_type": "execute_result"
    }
   ],
   "source": [
    "import math\n",
    "def f2(n):\n",
    "    N = n//2\n",
    "    ans = 0\n",
    "    for i in range(n//2+1):\n",
    "        ans += math.comb(n-i, i)\n",
    "    return ans\n",
    "f2(3)\n",
    "    "
   ]
  },
  {
   "cell_type": "code",
   "execution_count": 19,
   "metadata": {},
   "outputs": [
    {
     "name": "stdout",
     "output_type": "stream",
     "text": [
      "9 55 55\n"
     ]
    }
   ],
   "source": [
    "for i in range(10):\n",
    "    if f(i) != f2(i):\n",
    "        print(i, f(i), f2(i))\n",
    "        break\n",
    "    if i == 9:\n",
    "        print(i, f(i), f2(i))"
   ]
  },
  {
   "cell_type": "code",
   "execution_count": null,
   "metadata": {},
   "outputs": [],
   "source": []
  }
 ],
 "metadata": {
  "kernelspec": {
   "display_name": "Python 3",
   "language": "python",
   "name": "python3"
  },
  "language_info": {
   "codemirror_mode": {
    "name": "ipython",
    "version": 3
   },
   "file_extension": ".py",
   "mimetype": "text/x-python",
   "name": "python",
   "nbconvert_exporter": "python",
   "pygments_lexer": "ipython3",
   "version": "3.11.4"
  }
 },
 "nbformat": 4,
 "nbformat_minor": 2
}
